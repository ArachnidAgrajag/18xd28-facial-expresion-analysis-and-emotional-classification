{
 "cells": [
  {
   "cell_type": "code",
   "execution_count": 1,
   "metadata": {},
   "outputs": [],
   "source": [
    "import cv2    \n",
    "import pandas as pd    \n",
    "import numpy as np    \n",
    "import glob         \n",
    "import os     \n",
    "      \n",
    "#read the photos in the folder and create a dataset    \n",
    "emotions = [ 'anger', 'contempt', 'disgust', 'fear', 'happy',    \n",
    "    'sadness', 'surprise' ]    \n",
    "images = []    \n",
    "for i,emotion in enumerate(emotions): \n",
    "    path= os.getcwd() + \"/faces/\" + emotion + \"/*.png\"\n",
    "    images.append([cv2.imread(img) for img in glob.glob(path)])\n",
    "a= cv2.imread(\"/home/saikrishna/CoursePackages/18xd28-facial-expresion-analysis-and-emotional-classification/faces/anger/S034_003_00000025.png\")\n",
    "cv2.imshow(emotions[0],a)\n",
    "cv2.waitKey(0)\n",
    "cv2.destroyAllWindows()"
   ]
  }
 ],
 "metadata": {
  "kernelspec": {
   "display_name": "Python 3",
   "language": "python",
   "name": "python3"
  },
  "language_info": {
   "codemirror_mode": {
    "name": "ipython",
    "version": 3
   },
   "file_extension": ".py",
   "mimetype": "text/x-python",
   "name": "python",
   "nbconvert_exporter": "python",
   "pygments_lexer": "ipython3",
   "version": "3.8.2-final"
  }
 },
 "nbformat": 4,
 "nbformat_minor": 4
}